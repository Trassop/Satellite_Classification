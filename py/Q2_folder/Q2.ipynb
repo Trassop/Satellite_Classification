{
  "nbformat": 4,
  "nbformat_minor": 0,
  "metadata": {
    "colab": {
      "provenance": [],
      "gpuType": "T4",
      "authorship_tag": "ABX9TyPOE6NJv7VP2e+ilGz+Sl7d",
      "include_colab_link": true
    },
    "kernelspec": {
      "name": "python3",
      "display_name": "Python 3"
    },
    "language_info": {
      "name": "python"
    },
    "accelerator": "GPU"
  },
  "cells": [
    {
      "cell_type": "markdown",
      "metadata": {
        "id": "view-in-github",
        "colab_type": "text"
      },
      "source": [
        "<a href=\"https://colab.research.google.com/github/Trassop/Satellite_Classification/blob/main/Q2.ipynb\" target=\"_parent\"><img src=\"https://colab.research.google.com/assets/colab-badge.svg\" alt=\"Open In Colab\"/></a>"
      ]
    },
    {
      "cell_type": "markdown",
      "source": [
        "Similarly to the first notebook, I am importing relevant modules"
      ],
      "metadata": {
        "id": "nDqp9gNBuyOK"
      }
    },
    {
      "cell_type": "code",
      "source": [
        "import pandas as pd\n",
        "import torch\n",
        "import torch.nn as nn\n",
        "import torch.optim as optim\n",
        "from sklearn.model_selection import train_test_split\n",
        "from sklearn.preprocessing import StandardScaler, LabelEncoder\n",
        "from sklearn.metrics import confusion_matrix, ConfusionMatrixDisplay\n",
        "from sklearn.preprocessing import LabelEncoder\n",
        "import matplotlib.pyplot as plt\n",
        "import numpy as np"
      ],
      "metadata": {
        "id": "xKPNDCkaGQGy"
      },
      "execution_count": 140,
      "outputs": []
    },
    {
      "cell_type": "markdown",
      "source": [
        "To make sure that the test/train split is the same as the first notebook the random seed is fixed, this is to test the accuracy in a way that's reproducable."
      ],
      "metadata": {
        "id": "tD_l_uGEGyZd"
      }
    },
    {
      "cell_type": "code",
      "source": [
        "# Fix random seeds for reproducibility\n",
        "torch.manual_seed(42)\n",
        "np.random.seed(42)"
      ],
      "metadata": {
        "id": "fRDf97a7GR_A"
      },
      "execution_count": 141,
      "outputs": []
    },
    {
      "cell_type": "markdown",
      "source": [
        "Preparing and loading the data is identical to Notebook 1."
      ],
      "metadata": {
        "id": "8OienLpfGzCa"
      }
    },
    {
      "cell_type": "code",
      "source": [
        "satellite_data = pd.read_csv('Satellite_Data.csv')\n",
        "columns_of_interest = [\"Class of Orbit\", \"Type of Orbit\", \"Perigee (Kilometers)\",\n",
        "                       \"Apogee (Kilometers)\", \"Inclination (Degrees)\"]\n",
        "processed_data = satellite_data[columns_of_interest].copy()\n",
        "\n",
        "processed_data[\"Class of Orbit\"] = processed_data[\"Class of Orbit\"].fillna(\"Unknown\")\n",
        "processed_data[\"Type of Orbit\"] = processed_data[\"Type of Orbit\"].fillna(\"Unknown\")\n",
        "processed_data[\"Perigee (Kilometers)\"] = processed_data[\"Perigee (Kilometers)\"].fillna(\n",
        "    processed_data[\"Perigee (Kilometers)\"].mean())\n",
        "processed_data[\"Apogee (Kilometers)\"] = processed_data[\"Apogee (Kilometers)\"].fillna(\n",
        "    processed_data[\"Apogee (Kilometers)\"].mean())\n",
        "processed_data[\"Inclination (Degrees)\"] = processed_data[\"Inclination (Degrees)\"].fillna(0)\n",
        "\n",
        "processed_data[\"Altitude (Kilometers)\"] = processed_data.apply(\n",
        "    lambda row: row[\"Perigee (Kilometers)\"] if row[\"Apogee (Kilometers)\"] == 0 else\n",
        "                row[\"Apogee (Kilometers)\"] if row[\"Perigee (Kilometers)\"] == 0 else\n",
        "                (row[\"Perigee (Kilometers)\"] + row[\"Apogee (Kilometers)\"]) / 2, axis=1)"
      ],
      "metadata": {
        "id": "XIg5hCVUGUTh"
      },
      "execution_count": 142,
      "outputs": []
    },
    {
      "cell_type": "markdown",
      "source": [
        "Once again features and targets is done similarly to Notebook 1, however LabelEncoder is used to convert the categorical data to numerical values for the neural network to interpret."
      ],
      "metadata": {
        "id": "Ol0ncY47Gztj"
      }
    },
    {
      "cell_type": "code",
      "source": [
        "# Features and targets\n",
        "X = processed_data[[\"Altitude (Kilometers)\", \"Inclination (Degrees)\"]]\n",
        "y_class = LabelEncoder().fit_transform(processed_data[\"Class of Orbit\"])\n",
        "y_type = LabelEncoder().fit_transform(processed_data[\"Type of Orbit\"])"
      ],
      "metadata": {
        "id": "w-5Vk0zmGWlt"
      },
      "execution_count": 143,
      "outputs": []
    },
    {
      "cell_type": "markdown",
      "source": [
        "For the neural network a validation set is also used, some neural networks use stratified datasets - however the large number of classes combined with the low dataset size means that this is impractical."
      ],
      "metadata": {
        "id": "gLEgrSYKG0HU"
      }
    },
    {
      "cell_type": "code",
      "source": [
        "# Combine `y_class` and `y_type` into a single 1D array\n",
        "combined_targets = y_class * len(np.unique(y_type)) + y_type\n",
        "\n",
        "# Split into training/validation/test sets\n",
        "X_train, X_test, y_train_combined, y_test_combined = train_test_split(\n",
        "    X, combined_targets, test_size=0.2, random_state=42)"
      ],
      "metadata": {
        "id": "Pn8hW_2mGZfW"
      },
      "execution_count": 144,
      "outputs": []
    },
    {
      "cell_type": "markdown",
      "source": [
        "The combined array data for analysis is split back into class/type."
      ],
      "metadata": {
        "id": "N589LlLHG0ZN"
      }
    },
    {
      "cell_type": "code",
      "source": [
        "# Decode the combined targets back into `y_class` and `y_type`\n",
        "y_train_class = y_train_combined // len(np.unique(y_type))\n",
        "y_train_type = y_train_combined % len(np.unique(y_type))\n",
        "y_test_class = y_test_combined // len(np.unique(y_type))\n",
        "y_test_type = y_test_combined % len(np.unique(y_type))"
      ],
      "metadata": {
        "id": "Tme3V7YzGbOa"
      },
      "execution_count": 145,
      "outputs": []
    },
    {
      "cell_type": "markdown",
      "source": [
        "The actual split of the training/validation sets."
      ],
      "metadata": {
        "id": "ZlEdDu7UG01u"
      }
    },
    {
      "cell_type": "code",
      "source": [
        "# Further split training data into training and validation sets\n",
        "X_train, X_val, y_train_class, y_val_class, y_train_type, y_val_type = train_test_split(\n",
        "    X_train, y_train_class, y_train_type, test_size=0.2, random_state=42)"
      ],
      "metadata": {
        "id": "JOvP6Y5PGcJs"
      },
      "execution_count": 146,
      "outputs": []
    },
    {
      "cell_type": "markdown",
      "source": [
        "Standardising the features using StandardScaler normalised the data to a mean of 0 and a standard deviation of 1. This is to help optimise the NN."
      ],
      "metadata": {
        "id": "oGREN7RFG1NF"
      }
    },
    {
      "cell_type": "code",
      "source": [
        "scaler = StandardScaler()\n",
        "X_train_scaled = scaler.fit_transform(X_train)\n",
        "X_val_scaled = scaler.transform(X_val)\n",
        "X_test_scaled = scaler.transform(X_test)"
      ],
      "metadata": {
        "id": "kKiSeo_2GdJd"
      },
      "execution_count": 147,
      "outputs": []
    },
    {
      "cell_type": "markdown",
      "source": [
        "Neural networks require tensors to read, which the below code is converting the data to using the Torch module."
      ],
      "metadata": {
        "id": "z1aKPNAPG1ed"
      }
    },
    {
      "cell_type": "code",
      "source": [
        "# Convert data to PyTorch tensors\n",
        "X_train_tensor = torch.tensor(X_train_scaled, dtype=torch.float32)\n",
        "y_train_class_tensor = torch.tensor(y_train_class, dtype=torch.long)\n",
        "y_train_type_tensor = torch.tensor(y_train_type, dtype=torch.long)\n",
        "\n",
        "X_val_tensor = torch.tensor(X_val_scaled, dtype=torch.float32)\n",
        "y_val_class_tensor = torch.tensor(y_val_class, dtype=torch.long)\n",
        "y_val_type_tensor = torch.tensor(y_val_type, dtype=torch.long)\n",
        "\n",
        "X_test_tensor = torch.tensor(X_test_scaled, dtype=torch.float32)\n",
        "y_test_class_tensor = torch.tensor(y_test_class, dtype=torch.long)\n",
        "y_test_type_tensor = torch.tensor(y_test_type, dtype=torch.long)\n"
      ],
      "metadata": {
        "id": "7usHbGwTGeIX"
      },
      "execution_count": 148,
      "outputs": []
    },
    {
      "cell_type": "markdown",
      "source": [
        "The Neural Network is defined here. It is a Multi Output NN, as it defines both Class and Type of Orbit. Within the initialisation function the variables to be defined are the processed data with input_dim, and the outputs of Class and Type. Within this function the specific layering for the neural network is defined with fully connected as fc and batch normalisation bn. Batch normalisation speeds up training. This is then done a second time to refine the features of fc1. self.dropout prevents overfitting and self.relu helps to identify complexity. the forward function defines how data flows through the neural network."
      ],
      "metadata": {
        "id": "5hs8k0jNG1vP"
      }
    },
    {
      "cell_type": "code",
      "source": [
        "class MultiOutputNeuralNetwork(nn.Module):\n",
        "    def __init__(self, input_dim, class_output_dim, type_output_dim):\n",
        "        super(MultiOutputNeuralNetwork, self).__init__()\n",
        "        self.shared_fc1 = nn.Linear(input_dim, 64)\n",
        "        self.bn1 = nn.BatchNorm1d(64)\n",
        "        self.shared_fc2 = nn.Linear(64, 32)\n",
        "        self.bn2 = nn.BatchNorm1d(32)\n",
        "        self.relu = nn.ReLU()\n",
        "        self.dropout = nn.Dropout(0.3)  # Dropout for regularization\n",
        "        self.class_output = nn.Linear(32, class_output_dim)\n",
        "        self.type_output = nn.Linear(32, type_output_dim)\n",
        "        self.softmax = nn.Softmax(dim=1)\n",
        "\n",
        "    def forward(self, x):\n",
        "        x = self.relu(self.bn1(self.shared_fc1(x)))\n",
        "        x = self.dropout(self.relu(self.bn2(self.shared_fc2(x))))\n",
        "        class_out = self.softmax(self.class_output(x))\n",
        "        type_out = self.softmax(self.type_output(x))\n",
        "        return class_out, type_out\n"
      ],
      "metadata": {
        "id": "CU1p6e5eGf_O"
      },
      "execution_count": 149,
      "outputs": []
    },
    {
      "cell_type": "markdown",
      "source": [
        "The model then has to be trained, and evaluated. First the model is instantiated, additional support code is defined, then it is trained."
      ],
      "metadata": {
        "id": "NnXxJ_ltG2cK"
      }
    },
    {
      "cell_type": "code",
      "source": [
        "# Instantiate the model\n",
        "model = MultiOutputNeuralNetwork(\n",
        "    input_dim=X_train_tensor.shape[1],\n",
        "    class_output_dim=len(np.unique(y_class)),\n",
        "    type_output_dim=len(np.unique(y_type))\n",
        ")"
      ],
      "metadata": {
        "id": "pIXTuJa5Gj_p"
      },
      "execution_count": 150,
      "outputs": []
    },
    {
      "cell_type": "markdown",
      "source": [
        "A loss function is a measurement on how well the model performs, an optimiser updates the model's parameters during training, and the scheduler adjusts the learning rate to improve efficiency."
      ],
      "metadata": {
        "id": "ixMx-OnkG2xg"
      }
    },
    {
      "cell_type": "code",
      "source": [
        "# Define optimizer, scheduler, and loss function\n",
        "optimizer = optim.Adam(model.parameters(), lr=0.001, weight_decay=1e-4)\n",
        "scheduler = optim.lr_scheduler.ReduceLROnPlateau(optimizer, mode='min', patience=5, factor=0.1)\n",
        "criterion = nn.CrossEntropyLoss()"
      ],
      "metadata": {
        "id": "NFxJkFRZGlx6"
      },
      "execution_count": 151,
      "outputs": []
    },
    {
      "cell_type": "markdown",
      "source": [
        "The train loop has to iterate enough times to be accurate, but not so much that the time taken is exponentially longer than the gain in accuracy. In this code it runs for 100 epochs, or iterations."
      ],
      "metadata": {
        "id": "CJKzOxX1G3HU"
      }
    },
    {
      "cell_type": "code",
      "source": [
        "# Training loop\n",
        "def train_model(model, optimizer, scheduler, criterion, epochs=100):\n",
        "    model.train()\n",
        "    for epoch in range(epochs):\n",
        "        # Training step\n",
        "        optimizer.zero_grad()\n",
        "        class_out, type_out = model(X_train_tensor)\n",
        "        loss_class = criterion(class_out, y_train_class_tensor)\n",
        "        loss_type = criterion(type_out, y_train_type_tensor)\n",
        "        loss = loss_class + loss_type\n",
        "        loss.backward()\n",
        "        optimizer.step()\n",
        "\n",
        "        # Validation step\n",
        "        model.eval()\n",
        "        with torch.no_grad():\n",
        "            val_class_out, val_type_out = model(X_val_tensor)\n",
        "            val_loss_class = criterion(val_class_out, y_val_class_tensor)\n",
        "            val_loss_type = criterion(val_type_out, y_val_type_tensor)\n",
        "            val_loss = val_loss_class + val_loss_type\n",
        "        model.train()\n",
        "\n",
        "        # Update learning rate\n",
        "        scheduler.step(val_loss)\n",
        "\n",
        "        # Print progress\n",
        "        if epoch % 10 == 0:\n",
        "            print(f\"Epoch {epoch + 1}/{epochs}, Train Loss: {loss.item():.4f}, Val Loss: {val_loss.item():.4f}\")\n"
      ],
      "metadata": {
        "id": "QAUlYOj_Gno_"
      },
      "execution_count": 152,
      "outputs": []
    },
    {
      "cell_type": "markdown",
      "source": [
        "Training loop is run."
      ],
      "metadata": {
        "id": "LMzZUEs_G3hu"
      }
    },
    {
      "cell_type": "code",
      "source": [
        "# Train the model\n",
        "train_model(model, optimizer, scheduler, criterion, epochs=50)"
      ],
      "metadata": {
        "colab": {
          "base_uri": "https://localhost:8080/"
        },
        "id": "vuF9QInkGq1r",
        "outputId": "7c3ca05e-da04-48d4-a967-cb3e0fdb29a1"
      },
      "execution_count": 153,
      "outputs": [
        {
          "output_type": "stream",
          "name": "stdout",
          "text": [
            "Epoch 1/50, Train Loss: 3.9350, Val Loss: 3.9553\n",
            "Epoch 11/50, Train Loss: 3.7411, Val Loss: 3.8658\n",
            "Epoch 21/50, Train Loss: 3.5949, Val Loss: 3.6793\n",
            "Epoch 31/50, Train Loss: 3.4468, Val Loss: 3.4758\n",
            "Epoch 41/50, Train Loss: 3.3093, Val Loss: 3.3086\n"
          ]
        }
      ]
    },
    {
      "cell_type": "markdown",
      "source": [
        "Similar to notebook 1, the predicted data is compared to the actual data."
      ],
      "metadata": {
        "id": "pb7-kYRNG4Bx"
      }
    },
    {
      "cell_type": "code",
      "source": [
        "# Evaluate the model\n",
        "model.eval()\n",
        "with torch.no_grad():\n",
        "    y_pred_class, y_pred_type = model(X_test_tensor)\n",
        "    y_pred_class = y_pred_class.argmax(dim=1).numpy()\n",
        "    y_pred_type = y_pred_type.argmax(dim=1).numpy()"
      ],
      "metadata": {
        "id": "b7ZXLfiGz2nM"
      },
      "execution_count": 154,
      "outputs": []
    },
    {
      "cell_type": "markdown",
      "source": [
        "Visualised through a Confusion Matrix, where diagonal values represent correctly predicted results."
      ],
      "metadata": {
        "id": "McRVTysodU_a"
      }
    },
    {
      "cell_type": "code",
      "source": [
        "# Evaluate the model\n",
        "model.eval()\n",
        "with torch.no_grad():\n",
        "    y_pred_class, y_pred_type = model(X_test_tensor)\n",
        "    y_pred_class = y_pred_class.argmax(dim=1).numpy()\n",
        "    y_pred_type = y_pred_type.argmax(dim=1).numpy()\n",
        "\n",
        "# Confusion Matrices\n",
        "y_true_class = y_test_class_tensor.numpy()\n",
        "y_true_type = y_test_type_tensor.numpy()\n",
        "\n",
        "conf_matrix_class = confusion_matrix(y_true_class, y_pred_class)\n",
        "conf_matrix_type = confusion_matrix(y_true_type, y_pred_type)\n",
        "\n",
        "disp_class = ConfusionMatrixDisplay(confusion_matrix=conf_matrix_class, display_labels=np.unique(y_true_class))\n",
        "disp_class.plot(cmap=plt.cm.Blues)\n",
        "plt.title(\"Confusion Matrix: Class of Orbit\")\n",
        "plt.show()\n",
        "\n",
        "disp_type = ConfusionMatrixDisplay(confusion_matrix=conf_matrix_type, display_labels=np.unique(y_true_type))\n",
        "disp_type.plot(cmap=plt.cm.Blues)\n",
        "plt.title(\"Confusion Matrix: Type of Orbit\")\n",
        "plt.show()"
      ],
      "metadata": {
        "colab": {
          "base_uri": "https://localhost:8080/",
          "height": 927
        },
        "id": "43_UPcmCXCFD",
        "outputId": "497c4709-6bb7-4904-d7a5-1bf26d757960"
      },
      "execution_count": 155,
      "outputs": [
        {
          "output_type": "display_data",
          "data": {
            "text/plain": [
              "<Figure size 640x480 with 2 Axes>"
            ],
            "image/png": "[encoded data removed]"
          },
          "metadata": {}
        },
        {
          "output_type": "display_data",
          "data": {
            "text/plain": [
              "<Figure size 640x480 with 2 Axes>"
            ],
            "image/png": "[encoded data removed]"
          },
          "metadata": {}
        }
      ]
    },
    {
      "cell_type": "code",
      "source": [
        "# Combined accuracy\n",
        "combined_correct = (y_pred_class == y_test_class_tensor.numpy()) & (y_pred_type == y_test_type_tensor.numpy())\n",
        "combined_accuracy = combined_correct.mean() * 100\n",
        "print(f\"Combined Accuracy: {combined_accuracy:.2f}%\")"
      ],
      "metadata": {
        "colab": {
          "base_uri": "https://localhost:8080/"
        },
        "id": "2UOK5UMCb_AO",
        "outputId": "b67c0984-78c7-48ae-ec14-fb6c9cad523d"
      },
      "execution_count": 156,
      "outputs": [
        {
          "output_type": "stream",
          "name": "stdout",
          "text": [
            "Combined Accuracy: 84.86%\n"
          ]
        }
      ]
    },
    {
      "cell_type": "markdown",
      "source": [
        "Numerical label values converted into the answer key, assume the two LEO values are merged for the above matrix."
      ],
      "metadata": {
        "id": "VqPREibzb_0q"
      }
    },
    {
      "cell_type": "code",
      "source": [
        "# @title Confusion Matrix Key\n",
        "# Initialize LabelEncoder and fit it to the \"Class of Orbit\" column\n",
        "class_encoder = LabelEncoder()\n",
        "class_encoder.fit(processed_data[\"Class of Orbit\"])\n",
        "\n",
        "# Generate the mapping of labels to numbers\n",
        "class_label_mapping = {label: idx for idx, label in enumerate(class_encoder.classes_)}\n",
        "print(\"\\nClass of Orbit Key:\")\n",
        "for label, idx in class_label_mapping.items():\n",
        "    print(f\"{idx}: {label}\")\n",
        "\n",
        "# Initialize LabelEncoder and fit on the \"Type of Orbit\" column\n",
        "type_encoder = LabelEncoder()\n",
        "type_encoder.fit(processed_data[\"Type of Orbit\"])\n",
        "\n",
        "# Generate the mapping of labels to numbers\n",
        "type_label_mapping = {label: idx for idx, label in enumerate(type_encoder.classes_)}\n",
        "print(\"Type of Orbit Key:\")\n",
        "for label, idx in type_label_mapping.items():\n",
        "    print(f\"{idx}: {label}\")"
      ],
      "metadata": {
        "colab": {
          "base_uri": "https://localhost:8080/"
        },
        "cellView": "form",
        "id": "3N2COD_8dPJU",
        "outputId": "5037b4b7-0231-4c81-90c1-97cc5d5318d3"
      },
      "execution_count": 157,
      "outputs": [
        {
          "output_type": "stream",
          "name": "stdout",
          "text": [
            "\n",
            "Class of Orbit Key:\n",
            "0: Elliptical\n",
            "1: GEO\n",
            "2: LEO\n",
            "3: LEO \n",
            "4: MEO\n",
            "5: Unknown\n",
            "Type of Orbit Key:\n",
            "0: Cislunar\n",
            "1: Deep Highly Eccentric\n",
            "2: Elliptical\n",
            "3: Equatorial\n",
            "4: Molniya\n",
            "5: Non-Polar Inclined\n",
            "6: Polar\n",
            "7: Sun-Synchronous\n",
            "8: Unknown\n"
          ]
        }
      ]
    },
    {
      "cell_type": "markdown",
      "source": [
        "The Decision Tree has an accuracy in excess of 90% for any given seed whilst the neural network has accuracy of ≈85%, suggesting that for this particular propblem a neural network is not the optimal way to classify this data. Although that could be due to the dataset only having ≈1400 datapoints without augmentation. The NN seemed to have the greatest issue identifying between polar and sun-synchronous orbits."
      ],
      "metadata": {
        "id": "i76JG4Eweufe"
      }
    }
  ]
}