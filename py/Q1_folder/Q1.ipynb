import pandas as pd
from sklearn.model_selection import train_test_split
from sklearn.tree import DecisionTreeClassifier, plot_tree
import matplotlib.pyplot as plt
import numpy as np

# Selecting relevant columns and handling missing values
satellite_data = load_data()
columns_required = ["Class of Orbit", "Type of Orbit", "Perigee (Kilometers)", "Apogee (Kilometers)", "Inclination (Degrees)"]
processed_data = satellite_data[columns_required].copy()
